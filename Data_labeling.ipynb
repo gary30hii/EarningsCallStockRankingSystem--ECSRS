{
 "cells": [
  {
   "cell_type": "code",
   "execution_count": 1,
   "metadata": {},
   "outputs": [
    {
     "name": "stdout",
     "output_type": "stream",
     "text": [
      "  Stock_Name Earnings_Call_Date  Earnings_Surprise     Firm_Size  CAR_3_Days  \\\n",
      "0        STZ         2020-01-08           0.169399  3.650714e+10   -0.014271   \n",
      "1        RPM         2020-01-08           0.041096  9.467565e+09   -0.008348   \n",
      "2        PTC         2020-01-22           0.266667  9.242700e+09    0.094707   \n",
      "3         PG         2020-01-23           0.036496  3.170399e+11    0.014272   \n",
      "4        RJF         2020-01-23           0.000000  1.262831e+10    0.017126   \n",
      "\n",
      "   CAR_10_Days  CAR_30_Days  method_1  method_2  method_3  \n",
      "0     0.010221     0.083406  0.432441  0.768821  0.486680  \n",
      "1    -0.026677    -0.059266  0.194338  0.378917  0.132254  \n",
      "2     0.089449     0.049796  0.318199  0.427348  0.141501  \n",
      "3     0.005064     0.015538  0.397074  0.502051  0.364789  \n",
      "4     0.026210    -0.054972  0.251476  0.127434  0.137728  \n"
     ]
    }
   ],
   "source": [
    "import pandas as pd\n",
    "\n",
    "# Load the saved dataset\n",
    "unlabeled_data = pd.read_csv(\"unlabeled_data.csv\")\n",
    "\n",
    "# Ensure the date column is correctly parsed as datetime\n",
    "unlabeled_data['Earnings_Call_Date'] = pd.to_datetime(unlabeled_data['Earnings_Call_Date'])\n",
    "\n",
    "# Print the first few rows to verify\n",
    "print(unlabeled_data.head())\n"
   ]
  },
  {
   "cell_type": "code",
   "execution_count": 6,
   "metadata": {},
   "outputs": [
    {
     "name": "stdout",
     "output_type": "stream",
     "text": [
      "df1 shape: (8306, 10)\n",
      "df2 shape: (8306, 10)\n",
      "df3 shape: (8306, 10)\n"
     ]
    }
   ],
   "source": [
    "# Create two copies of the dataset\n",
    "df1 = unlabeled_data.copy()\n",
    "df2 = unlabeled_data.copy()\n",
    "df3 = unlabeled_data.copy()\n",
    "\n",
    "# Verify the copies\n",
    "print(f\"df1 shape: {df1.shape}\")\n",
    "print(f\"df2 shape: {df2.shape}\")\n",
    "print(f\"df3 shape: {df3.shape}\")"
   ]
  },
  {
   "cell_type": "code",
   "execution_count": 10,
   "metadata": {},
   "outputs": [
    {
     "name": "stdout",
     "output_type": "stream",
     "text": [
      "   CAR_3_Days  label_1\n",
      "0   -0.014271        0\n",
      "1   -0.008348        0\n",
      "2    0.094707        1\n",
      "3    0.014272        1\n",
      "4    0.017126        1\n",
      "   CAR_10_Days  label_2\n",
      "0     0.010221        1\n",
      "1    -0.026677        0\n",
      "2     0.089449        1\n",
      "3     0.005064        1\n",
      "4     0.026210        1\n",
      "   CAR_30_Days  label_3\n",
      "0     0.083406        1\n",
      "1    -0.059266        0\n",
      "2     0.049796        1\n",
      "3     0.015538        1\n",
      "4    -0.054972        0\n",
      "  Stock_Name Earnings_Call_Date  Earnings_Surprise     Firm_Size  CAR_3_Days  \\\n",
      "0        STZ         2020-01-08           0.169399  3.650714e+10   -0.014271   \n",
      "1        RPM         2020-01-08           0.041096  9.467565e+09   -0.008348   \n",
      "2        PTC         2020-01-22           0.266667  9.242700e+09    0.094707   \n",
      "3         PG         2020-01-23           0.036496  3.170399e+11    0.014272   \n",
      "4        RJF         2020-01-23           0.000000  1.262831e+10    0.017126   \n",
      "\n",
      "   CAR_10_Days  CAR_30_Days  method_1  method_2  method_3  label_1  label_2  \\\n",
      "0     0.010221     0.083406  0.432441  0.768821  0.486680        0        1   \n",
      "1    -0.026677    -0.059266  0.194338  0.378917  0.132254        0        0   \n",
      "2     0.089449     0.049796  0.318199  0.427348  0.141501        1        1   \n",
      "3     0.005064     0.015538  0.397074  0.502051  0.364789        1        1   \n",
      "4     0.026210    -0.054972  0.251476  0.127434  0.137728        1        1   \n",
      "\n",
      "   label_3  \n",
      "0        1  \n",
      "1        0  \n",
      "2        1  \n",
      "3        1  \n",
      "4        0  \n"
     ]
    }
   ],
   "source": [
    "# Create label_1 column: 1 if CAR_3_Days > 0, else 0\n",
    "df1['label_1'] = (df1['CAR_3_Days'] > 0).astype(int)\n",
    "\n",
    "# Verify the new column\n",
    "print(df1[['CAR_3_Days', 'label_1']].head())\n",
    "\n",
    "# Create label_2 column: 1 if CAR_10_Days > 0, else 0\n",
    "df1['label_2'] = (df1['CAR_10_Days'] > 0).astype(int)\n",
    "\n",
    "# Verify the new column\n",
    "print(df1[['CAR_10_Days', 'label_2']].head())\n",
    "\n",
    "# Create label_3 column: 1 if CAR_30_Days > 0, else 0\n",
    "df1['label_3'] = (df1['CAR_30_Days'] > 0).astype(int)\n",
    "\n",
    "# Verify the new column\n",
    "print(df1[['CAR_30_Days', 'label_3']].head())\n",
    "\n",
    "print(df1.head())\n"
   ]
  },
  {
   "cell_type": "code",
   "execution_count": null,
   "metadata": {},
   "outputs": [
    {
     "name": "stdout",
     "output_type": "stream",
     "text": [
      "  Stock_Name Earnings_Call_Date  Earnings_Surprise     Firm_Size  CAR_3_Days  \\\n",
      "0        STZ         2020-01-08           0.169399  3.650714e+10   -0.014271   \n",
      "1        RPM         2020-01-08           0.041096  9.467565e+09   -0.008348   \n",
      "2        PTC         2020-01-22           0.266667  9.242700e+09    0.094707   \n",
      "3         PG         2020-01-23           0.036496  3.170399e+11    0.014272   \n",
      "4        RJF         2020-01-23           0.000000  1.262831e+10    0.017126   \n",
      "\n",
      "   CAR_10_Days  CAR_30_Days  method_1  method_2  method_3  label_1  label_2  \\\n",
      "0     0.010221     0.083406  0.432441  0.768821  0.486680        0        1   \n",
      "1    -0.026677    -0.059266  0.194338  0.378917  0.132254        0        0   \n",
      "2     0.089449     0.049796  0.318199  0.427348  0.141501        1        1   \n",
      "3     0.005064     0.015538  0.397074  0.502051  0.364789        1        1   \n",
      "4     0.026210    -0.054972  0.251476  0.127434  0.137728        1        1   \n",
      "\n",
      "   label_3  rank  \n",
      "0        1     2  \n",
      "1        0     4  \n",
      "2        1     1  \n",
      "3        1     1  \n",
      "4        0     2  \n"
     ]
    }
   ],
   "source": [
    "def assign_rank(df):\n",
    "    \"\"\"\n",
    "    Assigns a rank based on the number of labels (label_1, label_2, label_3) that are equal to 1.\n",
    "\n",
    "    Rank Rules:\n",
    "    - 3 labels = 1 → Rank 1\n",
    "    - 2 labels = 1 → Rank 2\n",
    "    - 1 label = 1 → Rank 3\n",
    "    - 0 labels = 1 → Rank 4\n",
    "\n",
    "    Parameters:\n",
    "        df (pd.DataFrame): DataFrame containing label_1, label_2, and label_3 columns.\n",
    "\n",
    "    Returns:\n",
    "        pd.DataFrame: Updated DataFrame with a new 'rank' column.\n",
    "    \"\"\"\n",
    "    df['rank'] = df[['label_1', 'label_2', 'label_3']].sum(axis=1).map({3: 1, 2: 2, 1: 3, 0: 4})\n",
    "    return df\n",
    "\n",
    "# Apply the function to df1\n",
    "df1 = assign_rank(df1)\n",
    "\n",
    "# Verify the new column\n",
    "print(df1.head())\n"
   ]
  },
  {
   "cell_type": "code",
   "execution_count": 18,
   "metadata": {},
   "outputs": [
    {
     "name": "stdout",
     "output_type": "stream",
     "text": [
      "Processed data saved as 'df1.csv'.\n"
     ]
    }
   ],
   "source": [
    "# Save the processed DataFrame as 'df1.csv'\n",
    "df1.to_csv(\"df1.csv\", index=False)\n",
    "\n",
    "print(\"Processed data saved as 'df1.csv'.\")"
   ]
  },
  {
   "cell_type": "code",
   "execution_count": 16,
   "metadata": {},
   "outputs": [
    {
     "name": "stdout",
     "output_type": "stream",
     "text": [
      "Mean Values Used for Labeling:\n",
      "CAR_3_Days     0.003126\n",
      "CAR_10_Days    0.003208\n",
      "CAR_30_Days    0.002031\n",
      "dtype: float64\n",
      "    CAR_3_Days  label_1  CAR_10_Days  label_2  CAR_30_Days  label_3\n",
      "0    -0.014271        0     0.010221        1     0.083406        1\n",
      "1    -0.008348        0    -0.026677        0    -0.059266        0\n",
      "2     0.094707        1     0.089449        1     0.049796        1\n",
      "3     0.014272        1     0.005064        1     0.015538        1\n",
      "4     0.017126        1     0.026210        1    -0.054972        0\n",
      "..         ...      ...          ...      ...          ...      ...\n",
      "95    0.028566        1     0.003689        1     0.017732        1\n",
      "96    0.029075        1     0.034162        1    -0.007515        0\n",
      "97    0.029962        1     0.096126        1     0.186042        1\n",
      "98    0.157220        1     0.148475        1     0.218370        1\n",
      "99    0.000053        0    -0.022676        0     0.017140        1\n",
      "\n",
      "[100 rows x 6 columns]\n"
     ]
    }
   ],
   "source": [
    "# Calculate mean values for CAR_3_Days, CAR_10_Days, and CAR_30_Days\n",
    "car_means = df2[['CAR_3_Days', 'CAR_10_Days', 'CAR_30_Days']].mean()\n",
    "\n",
    "# Create label_1: 1 if CAR_3_Days > mean, else 0\n",
    "df2['label_1'] = (df2['CAR_3_Days'] > car_means['CAR_3_Days']).astype(int)\n",
    "\n",
    "# Create label_2: 1 if CAR_10_Days > mean, else 0\n",
    "df2['label_2'] = (df2['CAR_10_Days'] > car_means['CAR_10_Days']).astype(int)\n",
    "\n",
    "# Create label_3: 1 if CAR_30_Days > mean, else 0\n",
    "df2['label_3'] = (df2['CAR_30_Days'] > car_means['CAR_30_Days']).astype(int)\n",
    "\n",
    "# Verify the new labels\n",
    "print(\"Mean Values Used for Labeling:\")\n",
    "print(car_means)\n",
    "print(df2[['CAR_3_Days', 'label_1', 'CAR_10_Days', 'label_2', 'CAR_30_Days', 'label_3']].head(100))\n"
   ]
  },
  {
   "cell_type": "code",
   "execution_count": 17,
   "metadata": {},
   "outputs": [
    {
     "name": "stdout",
     "output_type": "stream",
     "text": [
      "  Stock_Name Earnings_Call_Date  Earnings_Surprise     Firm_Size  CAR_3_Days  \\\n",
      "0        STZ         2020-01-08           0.169399  3.650714e+10   -0.014271   \n",
      "1        RPM         2020-01-08           0.041096  9.467565e+09   -0.008348   \n",
      "2        PTC         2020-01-22           0.266667  9.242700e+09    0.094707   \n",
      "3         PG         2020-01-23           0.036496  3.170399e+11    0.014272   \n",
      "4        RJF         2020-01-23           0.000000  1.262831e+10    0.017126   \n",
      "\n",
      "   CAR_10_Days  CAR_30_Days  method_1  method_2  method_3  label_1  label_2  \\\n",
      "0     0.010221     0.083406  0.432441  0.768821  0.486680        0        1   \n",
      "1    -0.026677    -0.059266  0.194338  0.378917  0.132254        0        0   \n",
      "2     0.089449     0.049796  0.318199  0.427348  0.141501        1        1   \n",
      "3     0.005064     0.015538  0.397074  0.502051  0.364789        1        1   \n",
      "4     0.026210    -0.054972  0.251476  0.127434  0.137728        1        1   \n",
      "\n",
      "   label_3  rank  \n",
      "0        1     2  \n",
      "1        0     4  \n",
      "2        1     1  \n",
      "3        1     1  \n",
      "4        0     2  \n"
     ]
    }
   ],
   "source": [
    "# Apply the function to df1\n",
    "df2 = assign_rank(df2)\n",
    "\n",
    "# Verify the new column\n",
    "print(df2.head())"
   ]
  },
  {
   "cell_type": "code",
   "execution_count": 19,
   "metadata": {},
   "outputs": [
    {
     "name": "stdout",
     "output_type": "stream",
     "text": [
      "Processed data saved as 'df2.csv'.\n"
     ]
    }
   ],
   "source": [
    "# Save the processed DataFrame as 'df2.csv'\n",
    "df2.to_csv(\"df2.csv\", index=False)\n",
    "\n",
    "print(\"Processed data saved as 'df2.csv'.\")"
   ]
  },
  {
   "cell_type": "code",
   "execution_count": 20,
   "metadata": {},
   "outputs": [
    {
     "name": "stdout",
     "output_type": "stream",
     "text": [
      "Median Values Used for Labeling:\n",
      "CAR_3_Days     0.001031\n",
      "CAR_10_Days    0.001170\n",
      "CAR_30_Days   -0.001128\n",
      "dtype: float64\n",
      "    CAR_3_Days  label_1  CAR_10_Days  label_2  CAR_30_Days  label_3\n",
      "0    -0.014271        0     0.010221        1     0.083406        1\n",
      "1    -0.008348        0    -0.026677        0    -0.059266        0\n",
      "2     0.094707        1     0.089449        1     0.049796        1\n",
      "3     0.014272        1     0.005064        1     0.015538        1\n",
      "4     0.017126        1     0.026210        1    -0.054972        0\n",
      "..         ...      ...          ...      ...          ...      ...\n",
      "95    0.028566        1     0.003689        1     0.017732        1\n",
      "96    0.029075        1     0.034162        1    -0.007515        0\n",
      "97    0.029962        1     0.096126        1     0.186042        1\n",
      "98    0.157220        1     0.148475        1     0.218370        1\n",
      "99    0.000053        0    -0.022676        0     0.017140        1\n",
      "\n",
      "[100 rows x 6 columns]\n"
     ]
    }
   ],
   "source": [
    "# Calculate median values for CAR_3_Days, CAR_10_Days, and CAR_30_Days\n",
    "car_medians = df3[['CAR_3_Days', 'CAR_10_Days', 'CAR_30_Days']].median()\n",
    "\n",
    "# Create label_1: 1 if CAR_3_Days > median, else 0\n",
    "df3['label_1'] = (df3['CAR_3_Days'] > car_medians['CAR_3_Days']).astype(int)\n",
    "\n",
    "# Create label_2: 1 if CAR_10_Days > median, else 0\n",
    "df3['label_2'] = (df3['CAR_10_Days'] > car_medians['CAR_10_Days']).astype(int)\n",
    "\n",
    "# Create label_3: 1 if CAR_30_Days > median, else 0\n",
    "df3['label_3'] = (df3['CAR_30_Days'] > car_medians['CAR_30_Days']).astype(int)\n",
    "\n",
    "# Verify the new labels\n",
    "print(\"Median Values Used for Labeling:\")\n",
    "print(car_medians)\n",
    "print(df3[['CAR_3_Days', 'label_1', 'CAR_10_Days', 'label_2', 'CAR_30_Days', 'label_3']].head(100))\n"
   ]
  },
  {
   "cell_type": "code",
   "execution_count": 21,
   "metadata": {},
   "outputs": [
    {
     "name": "stdout",
     "output_type": "stream",
     "text": [
      "Processed data saved as 'df3.csv'.\n"
     ]
    }
   ],
   "source": [
    "# Save the processed DataFrame as 'df3.csv'\n",
    "df3.to_csv(\"df3.csv\", index=False)\n",
    "\n",
    "print(\"Processed data saved as 'df3.csv'.\")"
   ]
  }
 ],
 "metadata": {
  "kernelspec": {
   "display_name": "base",
   "language": "python",
   "name": "python3"
  },
  "language_info": {
   "codemirror_mode": {
    "name": "ipython",
    "version": 3
   },
   "file_extension": ".py",
   "mimetype": "text/x-python",
   "name": "python",
   "nbconvert_exporter": "python",
   "pygments_lexer": "ipython3",
   "version": "3.11.5"
  }
 },
 "nbformat": 4,
 "nbformat_minor": 2
}
